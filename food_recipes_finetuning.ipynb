{
 "cells": [
  {
   "cell_type": "code",
   "execution_count": 4,
   "metadata": {},
   "outputs": [],
   "source": [
    "import torch\n",
    "torch.cuda.empty_cache()"
   ]
  },
  {
   "cell_type": "markdown",
   "metadata": {},
   "source": [
    "# Predicting Recipe Tags from Descriptions"
   ]
  },
  {
   "cell_type": "markdown",
   "metadata": {},
   "source": [
    "## Parameters"
   ]
  },
  {
   "cell_type": "code",
   "execution_count": 5,
   "metadata": {},
   "outputs": [],
   "source": [
    "MODEL_NAME = \"t5-small\"\n",
    "\n",
    "INGREDIENTS_SEPARATOR = ', '\n",
    "STEPS_SEPARATOR = '\\n- '\n",
    "\n",
    "TRAIN_PROPORTION = 0.95\n",
    "\n",
    "VAL_DATASET_MAX_SIZE = 200"
   ]
  },
  {
   "cell_type": "markdown",
   "metadata": {},
   "source": [
    "## Load Model and Tokenizer"
   ]
  },
  {
   "cell_type": "code",
   "execution_count": 6,
   "metadata": {},
   "outputs": [
    {
     "data": {
      "application/vnd.jupyter.widget-view+json": {
       "model_id": "12098609847f4f9da3aa618b9ac27e52",
       "version_major": 2,
       "version_minor": 0
      },
      "text/plain": [
       "Downloading model.safetensors:   0%|          | 0.00/242M [00:00<?, ?B/s]"
      ]
     },
     "metadata": {},
     "output_type": "display_data"
    },
    {
     "data": {
      "application/vnd.jupyter.widget-view+json": {
       "model_id": "2f07ddd6dfbb47ae864dcc855d451189",
       "version_major": 2,
       "version_minor": 0
      },
      "text/plain": [
       "Downloading (…)neration_config.json:   0%|          | 0.00/147 [00:00<?, ?B/s]"
      ]
     },
     "metadata": {},
     "output_type": "display_data"
    }
   ],
   "source": [
    "from transformers import AutoTokenizer, AutoModelForSeq2SeqLM\n",
    "\n",
    "tokenizer = AutoTokenizer.from_pretrained(MODEL_NAME)\n",
    "model = AutoModelForSeq2SeqLM.from_pretrained(\n",
    "    MODEL_NAME,\n",
    "    device_map=\"auto\")"
   ]
  },
  {
   "cell_type": "markdown",
   "metadata": {},
   "source": [
    "## Load Data and Explore"
   ]
  },
  {
   "cell_type": "code",
   "execution_count": 10,
   "metadata": {},
   "outputs": [
    {
     "data": {
      "text/html": [
       "<div>\n",
       "<style scoped>\n",
       "    .dataframe tbody tr th:only-of-type {\n",
       "        vertical-align: middle;\n",
       "    }\n",
       "\n",
       "    .dataframe tbody tr th {\n",
       "        vertical-align: top;\n",
       "    }\n",
       "\n",
       "    .dataframe thead th {\n",
       "        text-align: right;\n",
       "    }\n",
       "</style>\n",
       "<table border=\"1\" class=\"dataframe\">\n",
       "  <thead>\n",
       "    <tr style=\"text-align: right;\">\n",
       "      <th></th>\n",
       "      <th>name</th>\n",
       "      <th>id</th>\n",
       "      <th>minutes</th>\n",
       "      <th>contributor_id</th>\n",
       "      <th>submitted</th>\n",
       "      <th>tags</th>\n",
       "      <th>nutrition</th>\n",
       "      <th>n_steps</th>\n",
       "      <th>steps</th>\n",
       "      <th>description</th>\n",
       "      <th>ingredients</th>\n",
       "      <th>n_ingredients</th>\n",
       "    </tr>\n",
       "  </thead>\n",
       "  <tbody>\n",
       "    <tr>\n",
       "      <th>0</th>\n",
       "      <td>arriba   baked winter squash mexican style</td>\n",
       "      <td>137739</td>\n",
       "      <td>55</td>\n",
       "      <td>47892</td>\n",
       "      <td>2005-09-16</td>\n",
       "      <td>['60-minutes-or-less', 'time-to-make', 'course...</td>\n",
       "      <td>[51.5, 0.0, 13.0, 0.0, 2.0, 0.0, 4.0]</td>\n",
       "      <td>11</td>\n",
       "      <td>['make a choice and proceed with recipe', 'dep...</td>\n",
       "      <td>autumn is my favorite time of year to cook! th...</td>\n",
       "      <td>['winter squash', 'mexican seasoning', 'mixed ...</td>\n",
       "      <td>7</td>\n",
       "    </tr>\n",
       "    <tr>\n",
       "      <th>1</th>\n",
       "      <td>a bit different  breakfast pizza</td>\n",
       "      <td>31490</td>\n",
       "      <td>30</td>\n",
       "      <td>26278</td>\n",
       "      <td>2002-06-17</td>\n",
       "      <td>['30-minutes-or-less', 'time-to-make', 'course...</td>\n",
       "      <td>[173.4, 18.0, 0.0, 17.0, 22.0, 35.0, 1.0]</td>\n",
       "      <td>9</td>\n",
       "      <td>['preheat oven to 425 degrees f', 'press dough...</td>\n",
       "      <td>this recipe calls for the crust to be prebaked...</td>\n",
       "      <td>['prepared pizza crust', 'sausage patty', 'egg...</td>\n",
       "      <td>6</td>\n",
       "    </tr>\n",
       "    <tr>\n",
       "      <th>2</th>\n",
       "      <td>all in the kitchen  chili</td>\n",
       "      <td>112140</td>\n",
       "      <td>130</td>\n",
       "      <td>196586</td>\n",
       "      <td>2005-02-25</td>\n",
       "      <td>['time-to-make', 'course', 'preparation', 'mai...</td>\n",
       "      <td>[269.8, 22.0, 32.0, 48.0, 39.0, 27.0, 5.0]</td>\n",
       "      <td>6</td>\n",
       "      <td>['brown ground beef in large pot', 'add choppe...</td>\n",
       "      <td>this modified version of 'mom's' chili was a h...</td>\n",
       "      <td>['ground beef', 'yellow onions', 'diced tomato...</td>\n",
       "      <td>13</td>\n",
       "    </tr>\n",
       "    <tr>\n",
       "      <th>3</th>\n",
       "      <td>alouette  potatoes</td>\n",
       "      <td>59389</td>\n",
       "      <td>45</td>\n",
       "      <td>68585</td>\n",
       "      <td>2003-04-14</td>\n",
       "      <td>['60-minutes-or-less', 'time-to-make', 'course...</td>\n",
       "      <td>[368.1, 17.0, 10.0, 2.0, 14.0, 8.0, 20.0]</td>\n",
       "      <td>11</td>\n",
       "      <td>['place potatoes in a large pot of lightly sal...</td>\n",
       "      <td>this is a super easy, great tasting, make ahea...</td>\n",
       "      <td>['spreadable cheese with garlic and herbs', 'n...</td>\n",
       "      <td>11</td>\n",
       "    </tr>\n",
       "    <tr>\n",
       "      <th>4</th>\n",
       "      <td>amish  tomato ketchup  for canning</td>\n",
       "      <td>44061</td>\n",
       "      <td>190</td>\n",
       "      <td>41706</td>\n",
       "      <td>2002-10-25</td>\n",
       "      <td>['weeknight', 'time-to-make', 'course', 'main-...</td>\n",
       "      <td>[352.9, 1.0, 337.0, 23.0, 3.0, 0.0, 28.0]</td>\n",
       "      <td>5</td>\n",
       "      <td>['mix all ingredients&amp; boil for 2 1 / 2 hours ...</td>\n",
       "      <td>my dh's amish mother raised him on this recipe...</td>\n",
       "      <td>['tomato juice', 'apple cider vinegar', 'sugar...</td>\n",
       "      <td>8</td>\n",
       "    </tr>\n",
       "  </tbody>\n",
       "</table>\n",
       "</div>"
      ],
      "text/plain": [
       "                                         name      id  minutes  \\\n",
       "0  arriba   baked winter squash mexican style  137739       55   \n",
       "1            a bit different  breakfast pizza   31490       30   \n",
       "2                   all in the kitchen  chili  112140      130   \n",
       "3                          alouette  potatoes   59389       45   \n",
       "4          amish  tomato ketchup  for canning   44061      190   \n",
       "\n",
       "   contributor_id   submitted  \\\n",
       "0           47892  2005-09-16   \n",
       "1           26278  2002-06-17   \n",
       "2          196586  2005-02-25   \n",
       "3           68585  2003-04-14   \n",
       "4           41706  2002-10-25   \n",
       "\n",
       "                                                tags  \\\n",
       "0  ['60-minutes-or-less', 'time-to-make', 'course...   \n",
       "1  ['30-minutes-or-less', 'time-to-make', 'course...   \n",
       "2  ['time-to-make', 'course', 'preparation', 'mai...   \n",
       "3  ['60-minutes-or-less', 'time-to-make', 'course...   \n",
       "4  ['weeknight', 'time-to-make', 'course', 'main-...   \n",
       "\n",
       "                                    nutrition  n_steps  \\\n",
       "0       [51.5, 0.0, 13.0, 0.0, 2.0, 0.0, 4.0]       11   \n",
       "1   [173.4, 18.0, 0.0, 17.0, 22.0, 35.0, 1.0]        9   \n",
       "2  [269.8, 22.0, 32.0, 48.0, 39.0, 27.0, 5.0]        6   \n",
       "3   [368.1, 17.0, 10.0, 2.0, 14.0, 8.0, 20.0]       11   \n",
       "4   [352.9, 1.0, 337.0, 23.0, 3.0, 0.0, 28.0]        5   \n",
       "\n",
       "                                               steps  \\\n",
       "0  ['make a choice and proceed with recipe', 'dep...   \n",
       "1  ['preheat oven to 425 degrees f', 'press dough...   \n",
       "2  ['brown ground beef in large pot', 'add choppe...   \n",
       "3  ['place potatoes in a large pot of lightly sal...   \n",
       "4  ['mix all ingredients& boil for 2 1 / 2 hours ...   \n",
       "\n",
       "                                         description  \\\n",
       "0  autumn is my favorite time of year to cook! th...   \n",
       "1  this recipe calls for the crust to be prebaked...   \n",
       "2  this modified version of 'mom's' chili was a h...   \n",
       "3  this is a super easy, great tasting, make ahea...   \n",
       "4  my dh's amish mother raised him on this recipe...   \n",
       "\n",
       "                                         ingredients  n_ingredients  \n",
       "0  ['winter squash', 'mexican seasoning', 'mixed ...              7  \n",
       "1  ['prepared pizza crust', 'sausage patty', 'egg...              6  \n",
       "2  ['ground beef', 'yellow onions', 'diced tomato...             13  \n",
       "3  ['spreadable cheese with garlic and herbs', 'n...             11  \n",
       "4  ['tomato juice', 'apple cider vinegar', 'sugar...              8  "
      ]
     },
     "execution_count": 10,
     "metadata": {},
     "output_type": "execute_result"
    }
   ],
   "source": [
    "import pandas as pd\n",
    "\n",
    "df = pd.read_csv(\"data/RAW_recipes.csv\")\n",
    "df[:5]"
   ]
  },
  {
   "cell_type": "code",
   "execution_count": 11,
   "metadata": {},
   "outputs": [
    {
     "name": "stdout",
     "output_type": "stream",
     "text": [
      "<class 'pandas.core.frame.DataFrame'>\n",
      "RangeIndex: 231637 entries, 0 to 231636\n",
      "Data columns (total 12 columns):\n",
      " #   Column          Non-Null Count   Dtype \n",
      "---  ------          --------------   ----- \n",
      " 0   name            231636 non-null  object\n",
      " 1   id              231637 non-null  int64 \n",
      " 2   minutes         231637 non-null  int64 \n",
      " 3   contributor_id  231637 non-null  int64 \n",
      " 4   submitted       231637 non-null  object\n",
      " 5   tags            231637 non-null  object\n",
      " 6   nutrition       231637 non-null  object\n",
      " 7   n_steps         231637 non-null  int64 \n",
      " 8   steps           231637 non-null  object\n",
      " 9   description     226658 non-null  object\n",
      " 10  ingredients     231637 non-null  object\n",
      " 11  n_ingredients   231637 non-null  int64 \n",
      "dtypes: int64(5), object(7)\n",
      "memory usage: 21.2+ MB\n"
     ]
    }
   ],
   "source": [
    "df.info()"
   ]
  },
  {
   "cell_type": "markdown",
   "metadata": {},
   "source": [
    "## Process the data"
   ]
  },
  {
   "cell_type": "code",
   "execution_count": 12,
   "metadata": {},
   "outputs": [
    {
     "data": {
      "text/plain": [
       "'\\nGiven a recipe, predict its tags.\\n---\\nRecipe Name: arriba   baked winter squash mexican style\\nCooking Time: 55 minutes\\nNumber of Ingredients: 7\\nNumber of Steps: 11\\nIngredients: winter squash, mexican seasoning, mixed spice, honey, butter, olive oil, salt\\nSteps:\\n- make a choice and proceed with recipe\\n- depending on size of squash , cut into half or fourths\\n- remove seeds\\n- for spicy squash , drizzle olive oil or melted butter over each cut squash piece\\n- season with mexican seasoning mix ii\\n- for sweet squash , drizzle melted honey , butter , grated piloncillo over each cut squash piece\\n- season with sweet mexican spice mix\\n- bake at 350 degrees , again depending on size , for 40 minutes up to an hour , until a fork can easily pierce the skin\\n- be careful not to burn the squash especially if you opt to use sugar or butter\\n- if you feel more comfortable , cover the squash with aluminum foil the first half hour , give or take , of baking\\n- if desired , season with salt\\n---\\nNow, predict the tags.\\n'"
      ]
     },
     "execution_count": 12,
     "metadata": {},
     "output_type": "execute_result"
    }
   ],
   "source": [
    "from ast import literal_eval\n",
    "\n",
    "df['prompts'] = df.apply(\n",
    "    lambda row: \\\n",
    "f\"\"\"\n",
    "Given a recipe, predict its tags.\n",
    "---\n",
    "Recipe Name: {row['name']}\n",
    "Cooking Time: {row['minutes']} minutes\n",
    "Number of Ingredients: {row['n_ingredients']}\n",
    "Number of Steps: {row['n_steps']}\n",
    "Ingredients: {INGREDIENTS_SEPARATOR.join(literal_eval(row['ingredients']))}\n",
    "Steps:\\n- {STEPS_SEPARATOR.join(literal_eval(row['steps']))}\n",
    "---\n",
    "Now, predict the tags.\n",
    "\"\"\", axis=1)\n",
    "\n",
    "df['prompts'][0]"
   ]
  },
  {
   "cell_type": "code",
   "execution_count": 13,
   "metadata": {},
   "outputs": [
    {
     "data": {
      "text/plain": [
       "\"['60-minutes-or-less', 'time-to-make', 'course', 'main-ingredient', 'cuisine', 'preparation', 'occasion', 'north-american', 'side-dishes', 'vegetables', 'mexican', 'easy', 'fall', 'holiday-event', 'vegetarian', 'winter', 'dietary', 'christmas', 'seasonal', 'squash']\""
      ]
     },
     "execution_count": 13,
     "metadata": {},
     "output_type": "execute_result"
    }
   ],
   "source": [
    "df['tags'][0]"
   ]
  },
  {
   "cell_type": "code",
   "execution_count": 14,
   "metadata": {},
   "outputs": [
    {
     "name": "stdout",
     "output_type": "stream",
     "text": [
      "['hunan', 'main-dish-beef', 'whole-duck', 'side-dishes', 'pasta-elbow-macaroni']\n",
      "552\n"
     ]
    }
   ],
   "source": [
    "# Better understand the tags\n",
    "\n",
    "unique_tags = set(item for sublist in df['tags'].apply(literal_eval) for item in sublist)\n",
    "print(list(tag for tag in unique_tags if tag)[:5])\n",
    "print(len(unique_tags))\n",
    "\n",
    "TAGS_TO_INDEX = {tag: i for i, tag in enumerate(unique_tags) if tag}\n",
    "INDEX_TO_TAGS = {i: tag for i, tag in enumerate(unique_tags) if tag}"
   ]
  },
  {
   "cell_type": "code",
   "execution_count": 15,
   "metadata": {},
   "outputs": [
    {
     "data": {
      "text/plain": [
       "0    [391, 255, 196, 488, 137, 173, 74, 63, 4, 321,...\n",
       "1    [265, 255, 196, 488, 137, 173, 74, 63, 425, 6,...\n",
       "2           [255, 196, 173, 6, 52, 280, 282, 546, 404]\n",
       "3    [391, 255, 196, 488, 173, 74, 4, 414, 104, 321...\n",
       "4    [165, 255, 196, 488, 137, 173, 74, 63, 513, 46...\n",
       "Name: tags_index, dtype: object"
      ]
     },
     "execution_count": 15,
     "metadata": {},
     "output_type": "execute_result"
    }
   ],
   "source": [
    "# Data setup when we're trying to predict the tags as individual entities\n",
    "\n",
    "df['tags_index'] = df['tags'].apply(literal_eval).apply(lambda tags: [TAGS_TO_INDEX[tag] for tag in tags if tag])\n",
    "df['tags_index'][:5]"
   ]
  },
  {
   "cell_type": "code",
   "execution_count": 16,
   "metadata": {},
   "outputs": [
    {
     "data": {
      "text/plain": [
       "0    60-minutes-or-less,christmas,course,cuisine,di...\n",
       "1    30-minutes-or-less,american,breakfast,course,c...\n",
       "2    4-hours-or-less,chili,course,crock-pot-slow-co...\n",
       "3    60-minutes-or-less,brunch,cheese,christmas,cou...\n",
       "4    4-hours-or-less,american,amish-mennonite,canni...\n",
       "Name: tags_seq, dtype: object"
      ]
     },
     "execution_count": 16,
     "metadata": {},
     "output_type": "execute_result"
    }
   ],
   "source": [
    "# Data setup when we're trying to predict the sorted sequence of tags as a CSV\n",
    "\n",
    "df['tags_seq'] = df['tags'].apply(literal_eval).apply(sorted).apply(lambda tags: ','.join(tags))\n",
    "df['tags_seq'][:5]"
   ]
  },
  {
   "cell_type": "code",
   "execution_count": 76,
   "metadata": {},
   "outputs": [
    {
     "name": "stdout",
     "output_type": "stream",
     "text": [
      "231637\n",
      "60-minutes-or-less,christmas,course,cuisine,dietary,easy,fall,holiday-event,main-ingredient,mexican,north-american,occasion,preparation,seasonal,side-dishes,squash,time-to-make,vegetables,vegetarian,winter\n",
      "30-minutes-or-less,american,breakfast,course,cuisine,dietary,easy,equipment,kid-friendly,main-dish,main-ingredient,meat,north-american,northeastern-united-states,occasion,oven,pizza,pork,preparation,time-to-make\n",
      "4-hours-or-less,chili,course,crock-pot-slow-cooker,dietary,equipment,main-dish,preparation,time-to-make\n",
      "60-minutes-or-less,brunch,cheese,christmas,course,dietary,dinner-party,easter,easy,eggs-dairy,equipment,holiday-event,independence-day,inexpensive,main-ingredient,new-years,occasion,oven,potatoes,preparation,presentation,served-hot,side-dishes,st-patricks-day,stove-top,superbowl,thanksgiving,time-to-make,valentines-day,vegetables\n",
      "4-hours-or-less,american,amish-mennonite,canning,condiments-etc,course,cuisine,dietary,heirloom-historical,holiday-event,main-ingredient,north-american,northeastern-united-states,number-of-servings,occasion,preparation,technique,time-to-make,vegetables,vegetarian,weeknight\n"
     ]
    }
   ],
   "source": [
    "tags = df['tags_seq'].tolist()\n",
    "print(len(tags))\n",
    "print('\\n'.join(tags[:5]))"
   ]
  },
  {
   "cell_type": "code",
   "execution_count": 19,
   "metadata": {
    "scrolled": true
   },
   "outputs": [
    {
     "name": "stdout",
     "output_type": "stream",
     "text": [
      "231637\n",
      "\n",
      "Given a recipe, predict its tags.\n",
      "---\n",
      "Recipe Name: arriba   baked winter squash mexican style\n",
      "Cooking Time: 55 minutes\n",
      "Number of Ingredients: 7\n",
      "Number of Steps: 11\n",
      "Ingredients: winter squash, mexican seasoning, mixed spice, honey, butter, olive oil, salt\n",
      "Steps:\n",
      "- make a choice and proceed with recipe\n",
      "- depending on size of squash , cut into half or fourths\n",
      "- remove seeds\n",
      "- for spicy squash , drizzle olive oil or melted butter over each cut squash piece\n",
      "- season with mexican seasoning mix ii\n",
      "- for sweet squash , drizzle melted honey , butter , grated piloncillo over each cut squash piece\n",
      "- season with sweet mexican spice mix\n",
      "- bake at 350 degrees , again depending on size , for 40 minutes up to an hour , until a fork can easily pierce the skin\n",
      "- be careful not to burn the squash especially if you opt to use sugar or butter\n",
      "- if you feel more comfortable , cover the squash with aluminum foil the first half hour , give or take , of baking\n",
      "- if desired , season with salt\n",
      "---\n",
      "Now, predict the tags.\n",
      "\n",
      "\n",
      "Given a recipe, predict its tags.\n",
      "---\n",
      "Recipe Name: a bit different  breakfast pizza\n",
      "Cooking Time: 30 minutes\n",
      "Number of Ingredients: 6\n",
      "Number of Steps: 9\n",
      "Ingredients: prepared pizza crust, sausage patty, eggs, milk, salt and pepper, cheese\n",
      "Steps:\n",
      "- preheat oven to 425 degrees f\n",
      "- press dough into the bottom and sides of a 12 inch pizza pan\n",
      "- bake for 5 minutes until set but not browned\n",
      "- cut sausage into small pieces\n",
      "- whisk eggs and milk in a bowl until frothy\n",
      "- spoon sausage over baked crust and sprinkle with cheese\n",
      "- pour egg mixture slowly over sausage and cheese\n",
      "- s& p to taste\n",
      "- bake 15-20 minutes or until eggs are set and crust is brown\n",
      "---\n",
      "Now, predict the tags.\n",
      "\n",
      "\n",
      "Given a recipe, predict its tags.\n",
      "---\n",
      "Recipe Name: all in the kitchen  chili\n",
      "Cooking Time: 130 minutes\n",
      "Number of Ingredients: 13\n",
      "Number of Steps: 6\n",
      "Ingredients: ground beef, yellow onions, diced tomatoes, tomato paste, tomato soup, rotel tomatoes, kidney beans, water, chili powder, ground cumin, salt, lettuce, cheddar cheese\n",
      "Steps:\n",
      "- brown ground beef in large pot\n",
      "- add chopped onions to ground beef when almost brown and sautee until wilted\n",
      "- add all other ingredients\n",
      "- add kidney beans if you like beans in your chili\n",
      "- cook in slow cooker on high for 2-3 hours or 6-8 hours on low\n",
      "- serve with cold clean lettuce and shredded cheese\n",
      "---\n",
      "Now, predict the tags.\n",
      "\n",
      "\n",
      "Given a recipe, predict its tags.\n",
      "---\n",
      "Recipe Name: alouette  potatoes\n",
      "Cooking Time: 45 minutes\n",
      "Number of Ingredients: 11\n",
      "Number of Steps: 11\n",
      "Ingredients: spreadable cheese with garlic and herbs, new potatoes, shallots, parsley, tarragon, olive oil, red wine vinegar, salt, pepper, red bell pepper, yellow bell pepper\n",
      "Steps:\n",
      "- place potatoes in a large pot of lightly salted water and bring to a gentle boil\n",
      "- cook until potatoes are just tender\n",
      "- drain\n",
      "- place potatoes in a large bowl and add all ingredients except the\"alouette\"\n",
      "- mix well and transfer to a buttered 8x8 inch glass baking dish with 2 inch sides\n",
      "- press the potatoes with a spatula to make top as flat as possible\n",
      "- set aside for 2 hours at room temperature\n",
      "- preheat oven to 350^f\n",
      "- spread\"alouette\" evenly over potatoes and bake 15 minutes\n",
      "- divide between plates\n",
      "- garnish with finely diced red and yellow bell peppers\n",
      "---\n",
      "Now, predict the tags.\n",
      "\n",
      "\n",
      "Given a recipe, predict its tags.\n",
      "---\n",
      "Recipe Name: amish  tomato ketchup  for canning\n",
      "Cooking Time: 190 minutes\n",
      "Number of Ingredients: 8\n",
      "Number of Steps: 5\n",
      "Ingredients: tomato juice, apple cider vinegar, sugar, salt, pepper, clove oil, cinnamon oil, dry mustard\n",
      "Steps:\n",
      "- mix all ingredients& boil for 2 1 / 2 hours , or until thick\n",
      "- pour into jars\n",
      "- i use'old' glass ketchup bottles\n",
      "- it is not necessary for these to'seal\n",
      "- 'my amish mother-in-law has been making this her entire life , and has never used a'sealed' jar for this recipe , and it's always been great !\n",
      "---\n",
      "Now, predict the tags.\n",
      "\n"
     ]
    }
   ],
   "source": [
    "prompts = df['prompts'].tolist()\n",
    "print(len(prompts))\n",
    "print('\\n'.join(prompts[:5]))"
   ]
  },
  {
   "cell_type": "markdown",
   "metadata": {},
   "source": [
    "## Assemble the datasets"
   ]
  },
  {
   "cell_type": "code",
   "execution_count": 20,
   "metadata": {},
   "outputs": [],
   "source": [
    "train_max_index = int(len(prompts) * TRAIN_PROPORTION)\n",
    "\n",
    "train_data_input = prompts[:train_max_index]\n",
    "train_data_output = tags[:train_max_index]\n",
    "\n",
    "val_data_input = prompts[train_max_index:]\n",
    "val_data_output = tags[train_max_index:]"
   ]
  },
  {
   "cell_type": "code",
   "execution_count": 23,
   "metadata": {},
   "outputs": [],
   "source": [
    "train_ids_input = tokenizer(prompts[:train_max_index], return_tensors='pt', padding='max_length', truncation=True).input_ids\n",
    "train_ids_output = tokenizer(tags[:train_max_index], return_tensors='pt', padding='max_length', truncation=True).input_ids\n",
    "\n",
    "val_ids_input = tokenizer(prompts[train_max_index:], return_tensors='pt', padding='max_length', truncation=True).input_ids\n",
    "val_ids_output = tokenizer(tags[train_max_index:], return_tensors='pt', padding='max_length', truncation=True).input_ids"
   ]
  },
  {
   "cell_type": "code",
   "execution_count": 24,
   "metadata": {},
   "outputs": [
    {
     "name": "stdout",
     "output_type": "stream",
     "text": [
      "torch.Size([220055, 512])\n",
      "torch.Size([220055, 512])\n",
      "torch.Size([11582, 512])\n",
      "torch.Size([11582, 512])\n"
     ]
    }
   ],
   "source": [
    "print(train_ids_input.shape)\n",
    "print(train_ids_output.shape)\n",
    "\n",
    "print(val_ids_input.shape)\n",
    "print(val_ids_output.shape)"
   ]
  },
  {
   "cell_type": "code",
   "execution_count": 25,
   "metadata": {},
   "outputs": [
    {
     "name": "stdout",
     "output_type": "stream",
     "text": [
      "tensor([[9246,    3,    9,  ...,    0,    0,    0],\n",
      "        [9246,    3,    9,  ...,    0,    0,    0],\n",
      "        [9246,    3,    9,  ...,    0,    0,    0],\n",
      "        [9246,    3,    9,  ...,    0,    0,    0],\n",
      "        [9246,    3,    9,  ...,    0,    0,    0]])\n"
     ]
    }
   ],
   "source": [
    "print(train_ids_input[:5])"
   ]
  },
  {
   "cell_type": "code",
   "execution_count": 26,
   "metadata": {},
   "outputs": [],
   "source": [
    "from torch.utils.data import Dataset\n",
    "from torch import Tensor\n",
    "\n",
    "class RecipeDatasetForSeq2Seq(Dataset):\n",
    "    def __init__(self, input_ids: Tensor, output_ids: Tensor):\n",
    "        self.input_ids = input_ids\n",
    "        self.output_ids = output_ids\n",
    "\n",
    "    def __len__(self):\n",
    "        return self.input_ids.shape[0]\n",
    "\n",
    "    def __getitem__(self, idx: int):\n",
    "        return {\n",
    "            'input_ids': self.input_ids[idx, :],\n",
    "            'labels': self.output_ids[idx, :]\n",
    "        }"
   ]
  },
  {
   "cell_type": "code",
   "execution_count": 27,
   "metadata": {},
   "outputs": [],
   "source": [
    "train_dataset = RecipeDatasetForSeq2Seq(train_ids_input, train_ids_output)\n",
    "val_dataset = RecipeDatasetForSeq2Seq(val_ids_input, val_ids_output)"
   ]
  },
  {
   "cell_type": "code",
   "execution_count": 28,
   "metadata": {},
   "outputs": [],
   "source": [
    "from torch.utils.data import Subset\n",
    "import random\n",
    "\n",
    "# For expedience, limit the validation dataset to a specific size\n",
    "indices = random.sample(range(len(val_dataset)), VAL_DATASET_MAX_SIZE)\n",
    "val_dataset = Subset(val_dataset, indices)"
   ]
  },
  {
   "cell_type": "markdown",
   "metadata": {},
   "source": [
    "## Metrics Setup"
   ]
  },
  {
   "cell_type": "code",
   "execution_count": 114,
   "metadata": {},
   "outputs": [],
   "source": [
    "import evaluate\n",
    "import numpy as np\n",
    "from typing import List\n",
    "\n",
    "def jaccard_similarity(list1: List[str], list2: List[str]) -> float:\n",
    "    s1 = set(list1)\n",
    "    s2 = set(list2)\n",
    "    return len(s1.intersection(s2)) / len(s1.union(s2))\n",
    "\n",
    "def dice_similarity(list1: List[str], list2: List[str]) -> float:\n",
    "    s1 = set(list1)\n",
    "    s2 = set(list2)\n",
    "    return (2. * len(s1.intersection(s2))) / (len(s1) + len(s2))\n",
    "\n",
    "def avg(vals: List[float]) -> float:\n",
    "    if len(vals) == 0:\n",
    "        return 1.0\n",
    "    return sum(vals) / len(vals)\n",
    "\n",
    "def compute_metrics(eval_preds):\n",
    "    preds, labels = eval_preds\n",
    "\n",
    "    # decode preds and labels\n",
    "    decoded_preds = tokenizer.batch_decode(preds, skip_special_tokens=True)\n",
    "    decoded_labels = tokenizer.batch_decode(labels, skip_special_tokens=True)\n",
    "\n",
    "    # split the preds and labels and compute the Jaccard similarity\n",
    "    pred_tags = [pred.split(',') for pred in decoded_preds]\n",
    "    label_tags = [label.split(',') for label in decoded_labels]\n",
    "\n",
    "    return {\n",
    "        'Jaccard': avg(list(jaccard_similarity(p_tags, l_tags) for p_tags, l_tags in zip(pred_tags, label_tags))),\n",
    "        'Dice': avg(list(dice_similarity(p_tags, l_tags) for p_tags, l_tags in zip(pred_tags, label_tags)))\n",
    "    }"
   ]
  },
  {
   "cell_type": "markdown",
   "metadata": {},
   "source": [
    "## Training"
   ]
  },
  {
   "cell_type": "code",
   "execution_count": 128,
   "metadata": {},
   "outputs": [],
   "source": [
    "from transformers import Seq2SeqTrainingArguments, Seq2SeqTrainer, GenerationConfig\n",
    "\n",
    "generation_config = GenerationConfig.from_pretrained(MODEL_NAME)\n",
    "generation_config.max_new_tokens = 50  # Required to ensure that the model has enough of a chance to output all the tags\n",
    "\n",
    "training_args = Seq2SeqTrainingArguments(\n",
    "    # training\n",
    "    learning_rate=2e-5,\n",
    "    per_device_train_batch_size=16,\n",
    "    weight_decay=0.01,\n",
    "    num_train_epochs=1,\n",
    "    fp16=True,\n",
    "\n",
    "    # evaluation\n",
    "    evaluation_strategy=\"steps\",\n",
    "    eval_steps=1000,\n",
    "    per_device_eval_batch_size=4,\n",
    "    predict_with_generate=True,\n",
    "    generation_config=generation_config,\n",
    "\n",
    "    # misc\n",
    "    output_dir=\"./results\",\n",
    "    save_total_limit=3,\n",
    ")"
   ]
  },
  {
   "cell_type": "code",
   "execution_count": 129,
   "metadata": {},
   "outputs": [],
   "source": [
    "trainer = Seq2SeqTrainer(\n",
    "    model=model,\n",
    "    args=training_args,\n",
    "    train_dataset=train_dataset,\n",
    "    eval_dataset=val_dataset,\n",
    "    tokenizer=tokenizer,\n",
    "    compute_metrics=compute_metrics,\n",
    ")"
   ]
  },
  {
   "cell_type": "code",
   "execution_count": 130,
   "metadata": {},
   "outputs": [
    {
     "data": {
      "text/html": [
       "\n",
       "    <div>\n",
       "      \n",
       "      <progress value='13754' max='13754' style='width:300px; height:20px; vertical-align: middle;'></progress>\n",
       "      [13754/13754 1:10:06, Epoch 1/1]\n",
       "    </div>\n",
       "    <table border=\"1\" class=\"dataframe\">\n",
       "  <thead>\n",
       " <tr style=\"text-align: left;\">\n",
       "      <th>Step</th>\n",
       "      <th>Training Loss</th>\n",
       "      <th>Validation Loss</th>\n",
       "      <th>Jaccard</th>\n",
       "      <th>Dice</th>\n",
       "    </tr>\n",
       "  </thead>\n",
       "  <tbody>\n",
       "    <tr>\n",
       "      <td>1000</td>\n",
       "      <td>0.112600</td>\n",
       "      <td>0.098554</td>\n",
       "      <td>0.099248</td>\n",
       "      <td>0.164727</td>\n",
       "    </tr>\n",
       "    <tr>\n",
       "      <td>2000</td>\n",
       "      <td>0.108000</td>\n",
       "      <td>0.090681</td>\n",
       "      <td>0.138496</td>\n",
       "      <td>0.226529</td>\n",
       "    </tr>\n",
       "    <tr>\n",
       "      <td>3000</td>\n",
       "      <td>0.100400</td>\n",
       "      <td>0.085041</td>\n",
       "      <td>0.176298</td>\n",
       "      <td>0.281635</td>\n",
       "    </tr>\n",
       "    <tr>\n",
       "      <td>4000</td>\n",
       "      <td>0.094700</td>\n",
       "      <td>0.081783</td>\n",
       "      <td>0.179488</td>\n",
       "      <td>0.287286</td>\n",
       "    </tr>\n",
       "    <tr>\n",
       "      <td>5000</td>\n",
       "      <td>0.090100</td>\n",
       "      <td>0.079051</td>\n",
       "      <td>0.177073</td>\n",
       "      <td>0.284786</td>\n",
       "    </tr>\n",
       "    <tr>\n",
       "      <td>6000</td>\n",
       "      <td>0.087900</td>\n",
       "      <td>0.076284</td>\n",
       "      <td>0.184151</td>\n",
       "      <td>0.297140</td>\n",
       "    </tr>\n",
       "    <tr>\n",
       "      <td>7000</td>\n",
       "      <td>0.085200</td>\n",
       "      <td>0.074576</td>\n",
       "      <td>0.201964</td>\n",
       "      <td>0.323530</td>\n",
       "    </tr>\n",
       "    <tr>\n",
       "      <td>8000</td>\n",
       "      <td>0.084000</td>\n",
       "      <td>0.072774</td>\n",
       "      <td>0.211821</td>\n",
       "      <td>0.338468</td>\n",
       "    </tr>\n",
       "    <tr>\n",
       "      <td>9000</td>\n",
       "      <td>0.083100</td>\n",
       "      <td>0.071381</td>\n",
       "      <td>0.216824</td>\n",
       "      <td>0.345602</td>\n",
       "    </tr>\n",
       "    <tr>\n",
       "      <td>10000</td>\n",
       "      <td>0.080600</td>\n",
       "      <td>0.070745</td>\n",
       "      <td>0.214717</td>\n",
       "      <td>0.343267</td>\n",
       "    </tr>\n",
       "    <tr>\n",
       "      <td>11000</td>\n",
       "      <td>0.080700</td>\n",
       "      <td>0.070025</td>\n",
       "      <td>0.219978</td>\n",
       "      <td>0.349579</td>\n",
       "    </tr>\n",
       "    <tr>\n",
       "      <td>12000</td>\n",
       "      <td>0.079800</td>\n",
       "      <td>0.069610</td>\n",
       "      <td>0.215434</td>\n",
       "      <td>0.343854</td>\n",
       "    </tr>\n",
       "    <tr>\n",
       "      <td>13000</td>\n",
       "      <td>0.080100</td>\n",
       "      <td>0.069232</td>\n",
       "      <td>0.217849</td>\n",
       "      <td>0.347554</td>\n",
       "    </tr>\n",
       "  </tbody>\n",
       "</table><p>"
      ],
      "text/plain": [
       "<IPython.core.display.HTML object>"
      ]
     },
     "metadata": {},
     "output_type": "display_data"
    },
    {
     "data": {
      "text/plain": [
       "TrainOutput(global_step=13754, training_loss=0.08958263863167895, metrics={'train_runtime': 4207.3434, 'train_samples_per_second': 52.303, 'train_steps_per_second': 3.269, 'total_flos': 2.978264012292096e+16, 'train_loss': 0.08958263863167895, 'epoch': 1.0})"
      ]
     },
     "execution_count": 130,
     "metadata": {},
     "output_type": "execute_result"
    }
   ],
   "source": [
    "trainer.train()"
   ]
  },
  {
   "cell_type": "markdown",
   "metadata": {},
   "source": [
    "## Generation / Sampling"
   ]
  },
  {
   "cell_type": "code",
   "execution_count": 132,
   "metadata": {},
   "outputs": [],
   "source": [
    "@torch.no_grad()\n",
    "def generate_from_model(text: str) -> List[str]:\n",
    "    model.eval()\n",
    "    with torch.cuda.amp.autocast():\n",
    "        input_ids = tokenizer.encode(text, return_tensors='pt', padding='max_length', truncation=True).cuda()\n",
    "\n",
    "    gen_output = model.generate(\n",
    "        input_ids=input_ids, \n",
    "        generation_config=generation_config\n",
    "    )\n",
    "\n",
    "    str_output = tokenizer.decode(gen_output[0], skip_special_tokens=True)\n",
    "\n",
    "    return str_output.split(',')"
   ]
  },
  {
   "cell_type": "code",
   "execution_count": 133,
   "metadata": {},
   "outputs": [],
   "source": [
    "SINGLE_TEST_IDX = 10000"
   ]
  },
  {
   "cell_type": "code",
   "execution_count": 134,
   "metadata": {},
   "outputs": [
    {
     "name": "stdout",
     "output_type": "stream",
     "text": [
      "\n",
      "Given a recipe, predict its tags.\n",
      "---\n",
      "Recipe Name: asparagus with orange ginger sauce\n",
      "Cooking Time: 18 minutes\n",
      "Number of Ingredients: 6\n",
      "Number of Steps: 8\n",
      "Ingredients: fresh asparagus, orange juice, orange zest, cornstarch, fresh gingerroot, slivered almonds\n",
      "Steps:\n",
      "- wash asparagus and snap off tough ends\n",
      "- place in a steamer basket and steam until just tender , about 5 minutes\n",
      "- in a small saucepan , stir together juice , zest and cornstarch\n",
      "- cook over medium-high heat until boiling\n",
      "- let thicken and reduce while stirring with a whisk , about 3 minutes\n",
      "- remove from heat and add grated ginger\n",
      "- place asparagus on a serving plate and pour sauce over asparagus\n",
      "- top with toasted almonds\n",
      "---\n",
      "Now, predict the tags.\n",
      "\n"
     ]
    }
   ],
   "source": [
    "print(prompts[SINGLE_TEST_IDX])"
   ]
  },
  {
   "cell_type": "code",
   "execution_count": 135,
   "metadata": {},
   "outputs": [
    {
     "name": "stdout",
     "output_type": "stream",
     "text": [
      "['30-minutes-or-less', 'asparagus', 'course', 'cuisine', 'dietary', 'dinner-party', 'equipment', 'european', 'for-1-or-2', 'fruit', 'healthy', 'healthy-2', 'low']\n"
     ]
    }
   ],
   "source": [
    "output_tags = generate_from_model(prompts[SINGLE_TEST_IDX])\n",
    "print(output_tags)"
   ]
  },
  {
   "cell_type": "code",
   "execution_count": 136,
   "metadata": {},
   "outputs": [
    {
     "name": "stdout",
     "output_type": "stream",
     "text": [
      "['30-minutes-or-less', 'asparagus', 'citrus', 'diabetic', 'dietary', 'fruit', 'main-ingredient', 'oranges', 'preparation', 'steam', 'technique', 'time-to-make', 'vegetables', 'vegetarian']\n"
     ]
    }
   ],
   "source": [
    "input_tags = tags[SINGLE_TEST_IDX].split(',')\n",
    "print(input_tags)"
   ]
  },
  {
   "cell_type": "code",
   "execution_count": 137,
   "metadata": {},
   "outputs": [
    {
     "name": "stdout",
     "output_type": "stream",
     "text": [
      "0.17391304347826086\n",
      "0.2962962962962963\n"
     ]
    }
   ],
   "source": [
    "print(jaccard_similarity(input_tags, output_tags))\n",
    "print(dice_similarity(input_tags, output_tags))"
   ]
  },
  {
   "cell_type": "code",
   "execution_count": null,
   "metadata": {},
   "outputs": [],
   "source": []
  }
 ],
 "metadata": {
  "kernelspec": {
   "display_name": "Python 3 (ipykernel)",
   "language": "python",
   "name": "python3"
  },
  "language_info": {
   "codemirror_mode": {
    "name": "ipython",
    "version": 3
   },
   "file_extension": ".py",
   "mimetype": "text/x-python",
   "name": "python",
   "nbconvert_exporter": "python",
   "pygments_lexer": "ipython3",
   "version": "3.10.6"
  }
 },
 "nbformat": 4,
 "nbformat_minor": 4
}
